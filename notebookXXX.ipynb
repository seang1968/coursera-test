{
    "cells": [
        {
            "cell_type": "markdown",
            "metadata": {},
            "source": "## Description\n\nSample project"
        },
        {
            "cell_type": "code",
            "execution_count": 1,
            "metadata": {},
            "outputs": [
                {
                    "data": {
                        "text/html": "<div>\n<style scoped>\n    .dataframe tbody tr th:only-of-type {\n        vertical-align: middle;\n    }\n\n    .dataframe tbody tr th {\n        vertical-align: top;\n    }\n\n    .dataframe thead th {\n        text-align: right;\n    }\n</style>\n<table border=\"1\" class=\"dataframe\">\n  <thead>\n    <tr style=\"text-align: right;\">\n      <th></th>\n      <th>Name</th>\n      <th>Team</th>\n      <th>Pos</th>\n      <th>Height</th>\n      <th>Weight</th>\n      <th>BMI</th>\n      <th>Birth_Place</th>\n      <th>Birthdate</th>\n      <th>Age</th>\n      <th>College</th>\n      <th>...</th>\n      <th>OREB</th>\n      <th>DREB</th>\n      <th>REB</th>\n      <th>AST</th>\n      <th>STL</th>\n      <th>BLK</th>\n      <th>TO</th>\n      <th>PTS</th>\n      <th>DD2</th>\n      <th>TD3</th>\n    </tr>\n  </thead>\n  <tbody>\n    <tr>\n      <th>0</th>\n      <td>Aerial Powers</td>\n      <td>DAL</td>\n      <td>F</td>\n      <td>183</td>\n      <td>71.0</td>\n      <td>21.200991</td>\n      <td>US</td>\n      <td>January 17, 1994</td>\n      <td>23</td>\n      <td>Michigan State</td>\n      <td>...</td>\n      <td>6</td>\n      <td>22</td>\n      <td>28</td>\n      <td>12</td>\n      <td>3</td>\n      <td>6</td>\n      <td>12</td>\n      <td>93</td>\n      <td>0</td>\n      <td>0</td>\n    </tr>\n    <tr>\n      <th>1</th>\n      <td>Alana Beard</td>\n      <td>LA</td>\n      <td>G/F</td>\n      <td>185</td>\n      <td>73.0</td>\n      <td>21.329438</td>\n      <td>US</td>\n      <td>May 14, 1982</td>\n      <td>35</td>\n      <td>Duke</td>\n      <td>...</td>\n      <td>19</td>\n      <td>82</td>\n      <td>101</td>\n      <td>72</td>\n      <td>63</td>\n      <td>13</td>\n      <td>40</td>\n      <td>217</td>\n      <td>0</td>\n      <td>0</td>\n    </tr>\n    <tr>\n      <th>2</th>\n      <td>Alex Bentley</td>\n      <td>CON</td>\n      <td>G</td>\n      <td>170</td>\n      <td>69.0</td>\n      <td>23.875433</td>\n      <td>US</td>\n      <td>October 27, 1990</td>\n      <td>26</td>\n      <td>Penn State</td>\n      <td>...</td>\n      <td>4</td>\n      <td>36</td>\n      <td>40</td>\n      <td>78</td>\n      <td>22</td>\n      <td>3</td>\n      <td>24</td>\n      <td>218</td>\n      <td>0</td>\n      <td>0</td>\n    </tr>\n    <tr>\n      <th>3</th>\n      <td>Alex Montgomery</td>\n      <td>SAN</td>\n      <td>G/F</td>\n      <td>185</td>\n      <td>84.0</td>\n      <td>24.543462</td>\n      <td>US</td>\n      <td>December 11, 1988</td>\n      <td>28</td>\n      <td>Georgia Tech</td>\n      <td>...</td>\n      <td>35</td>\n      <td>134</td>\n      <td>169</td>\n      <td>65</td>\n      <td>20</td>\n      <td>10</td>\n      <td>38</td>\n      <td>188</td>\n      <td>2</td>\n      <td>0</td>\n    </tr>\n    <tr>\n      <th>4</th>\n      <td>Alexis Jones</td>\n      <td>MIN</td>\n      <td>G</td>\n      <td>175</td>\n      <td>78.0</td>\n      <td>25.469388</td>\n      <td>US</td>\n      <td>August 5, 1994</td>\n      <td>23</td>\n      <td>Baylor</td>\n      <td>...</td>\n      <td>3</td>\n      <td>9</td>\n      <td>12</td>\n      <td>12</td>\n      <td>7</td>\n      <td>0</td>\n      <td>14</td>\n      <td>50</td>\n      <td>0</td>\n      <td>0</td>\n    </tr>\n  </tbody>\n</table>\n<p>5 rows \u00d7 32 columns</p>\n</div>",
                        "text/plain": "              Name Team  Pos  Height  Weight        BMI Birth_Place  \\\n0    Aerial Powers  DAL    F     183    71.0  21.200991          US   \n1      Alana Beard   LA  G/F     185    73.0  21.329438          US   \n2     Alex Bentley  CON    G     170    69.0  23.875433          US   \n3  Alex Montgomery  SAN  G/F     185    84.0  24.543462          US   \n4     Alexis Jones  MIN    G     175    78.0  25.469388          US   \n\n           Birthdate  Age         College  ... OREB  DREB  REB  AST  STL  BLK  \\\n0   January 17, 1994   23  Michigan State  ...    6    22   28   12    3    6   \n1       May 14, 1982   35            Duke  ...   19    82  101   72   63   13   \n2   October 27, 1990   26      Penn State  ...    4    36   40   78   22    3   \n3  December 11, 1988   28    Georgia Tech  ...   35   134  169   65   20   10   \n4     August 5, 1994   23          Baylor  ...    3     9   12   12    7    0   \n\n   TO  PTS  DD2  TD3  \n0  12   93    0    0  \n1  40  217    0    0  \n2  24  218    0    0  \n3  38  188    2    0  \n4  14   50    0    0  \n\n[5 rows x 32 columns]"
                    },
                    "execution_count": 1,
                    "metadata": {},
                    "output_type": "execute_result"
                }
            ],
            "source": "# The code was removed by Watson Studio for sharing."
        },
        {
            "cell_type": "code",
            "execution_count": null,
            "metadata": {},
            "outputs": [],
            "source": ""
        }
    ],
    "metadata": {
        "kernelspec": {
            "display_name": "Python 3.9",
            "language": "python",
            "name": "python3"
        },
        "language_info": {
            "codemirror_mode": {
                "name": "ipython",
                "version": 3
            },
            "file_extension": ".py",
            "mimetype": "text/x-python",
            "name": "python",
            "nbconvert_exporter": "python",
            "pygments_lexer": "ipython3",
            "version": "3.9.7"
        }
    },
    "nbformat": 4,
    "nbformat_minor": 1
}