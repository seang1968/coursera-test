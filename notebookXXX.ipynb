{
    "cells": [
        {
            "metadata": {},
            "cell_type": "markdown",
            "source": "## Description\n\nSample project"
        },
        {
            "metadata": {},
            "cell_type": "code",
            "source": "\nimport os, types\nimport pandas as pd\nfrom botocore.client import Config\nimport ibm_boto3\n\ndef __iter__(self): return 0\n\n# @hidden_cell\n# The following code accesses a file in your IBM Cloud Object Storage. It includes your credentials.\n# You might want to remove those credentials before you share the notebook.\nclient_6146e0433b694df28cb125b3b4402394 = ibm_boto3.client(service_name='s3',\n    ibm_api_key_id='AbvGQa6lM96eUNqexwHXBIGzcGiufJqx7W2fpBeBDro8',\n    ibm_auth_endpoint=\"https://iam.cloud.ibm.com/oidc/token\",\n    config=Config(signature_version='oauth'),\n    endpoint_url='https://s3.private.us.cloud-object-storage.appdomain.cloud')\n\nbody = client_6146e0433b694df28cb125b3b4402394.get_object(Bucket='test-donotdelete-pr-fnj7gk7ggbvcbq',Key='wnba.csv')['Body']\n# add missing __iter__ method, so pandas accepts body as file-like object\nif not hasattr(body, \"__iter__\"): body.__iter__ = types.MethodType( __iter__, body )\n\ndf_data_1 = pd.read_csv(body)\ndf_data_1.head()\n",
            "execution_count": 1,
            "outputs": [
                {
                    "output_type": "execute_result",
                    "execution_count": 1,
                    "data": {
                        "text/plain": "              Name Team  Pos  Height  Weight        BMI Birth_Place  \\\n0    Aerial Powers  DAL    F     183    71.0  21.200991          US   \n1      Alana Beard   LA  G/F     185    73.0  21.329438          US   \n2     Alex Bentley  CON    G     170    69.0  23.875433          US   \n3  Alex Montgomery  SAN  G/F     185    84.0  24.543462          US   \n4     Alexis Jones  MIN    G     175    78.0  25.469388          US   \n\n           Birthdate  Age         College  ... OREB  DREB  REB  AST  STL  BLK  \\\n0   January 17, 1994   23  Michigan State  ...    6    22   28   12    3    6   \n1       May 14, 1982   35            Duke  ...   19    82  101   72   63   13   \n2   October 27, 1990   26      Penn State  ...    4    36   40   78   22    3   \n3  December 11, 1988   28    Georgia Tech  ...   35   134  169   65   20   10   \n4     August 5, 1994   23          Baylor  ...    3     9   12   12    7    0   \n\n   TO  PTS  DD2  TD3  \n0  12   93    0    0  \n1  40  217    0    0  \n2  24  218    0    0  \n3  38  188    2    0  \n4  14   50    0    0  \n\n[5 rows x 32 columns]",
                        "text/html": "<div>\n<style scoped>\n    .dataframe tbody tr th:only-of-type {\n        vertical-align: middle;\n    }\n\n    .dataframe tbody tr th {\n        vertical-align: top;\n    }\n\n    .dataframe thead th {\n        text-align: right;\n    }\n</style>\n<table border=\"1\" class=\"dataframe\">\n  <thead>\n    <tr style=\"text-align: right;\">\n      <th></th>\n      <th>Name</th>\n      <th>Team</th>\n      <th>Pos</th>\n      <th>Height</th>\n      <th>Weight</th>\n      <th>BMI</th>\n      <th>Birth_Place</th>\n      <th>Birthdate</th>\n      <th>Age</th>\n      <th>College</th>\n      <th>...</th>\n      <th>OREB</th>\n      <th>DREB</th>\n      <th>REB</th>\n      <th>AST</th>\n      <th>STL</th>\n      <th>BLK</th>\n      <th>TO</th>\n      <th>PTS</th>\n      <th>DD2</th>\n      <th>TD3</th>\n    </tr>\n  </thead>\n  <tbody>\n    <tr>\n      <th>0</th>\n      <td>Aerial Powers</td>\n      <td>DAL</td>\n      <td>F</td>\n      <td>183</td>\n      <td>71.0</td>\n      <td>21.200991</td>\n      <td>US</td>\n      <td>January 17, 1994</td>\n      <td>23</td>\n      <td>Michigan State</td>\n      <td>...</td>\n      <td>6</td>\n      <td>22</td>\n      <td>28</td>\n      <td>12</td>\n      <td>3</td>\n      <td>6</td>\n      <td>12</td>\n      <td>93</td>\n      <td>0</td>\n      <td>0</td>\n    </tr>\n    <tr>\n      <th>1</th>\n      <td>Alana Beard</td>\n      <td>LA</td>\n      <td>G/F</td>\n      <td>185</td>\n      <td>73.0</td>\n      <td>21.329438</td>\n      <td>US</td>\n      <td>May 14, 1982</td>\n      <td>35</td>\n      <td>Duke</td>\n      <td>...</td>\n      <td>19</td>\n      <td>82</td>\n      <td>101</td>\n      <td>72</td>\n      <td>63</td>\n      <td>13</td>\n      <td>40</td>\n      <td>217</td>\n      <td>0</td>\n      <td>0</td>\n    </tr>\n    <tr>\n      <th>2</th>\n      <td>Alex Bentley</td>\n      <td>CON</td>\n      <td>G</td>\n      <td>170</td>\n      <td>69.0</td>\n      <td>23.875433</td>\n      <td>US</td>\n      <td>October 27, 1990</td>\n      <td>26</td>\n      <td>Penn State</td>\n      <td>...</td>\n      <td>4</td>\n      <td>36</td>\n      <td>40</td>\n      <td>78</td>\n      <td>22</td>\n      <td>3</td>\n      <td>24</td>\n      <td>218</td>\n      <td>0</td>\n      <td>0</td>\n    </tr>\n    <tr>\n      <th>3</th>\n      <td>Alex Montgomery</td>\n      <td>SAN</td>\n      <td>G/F</td>\n      <td>185</td>\n      <td>84.0</td>\n      <td>24.543462</td>\n      <td>US</td>\n      <td>December 11, 1988</td>\n      <td>28</td>\n      <td>Georgia Tech</td>\n      <td>...</td>\n      <td>35</td>\n      <td>134</td>\n      <td>169</td>\n      <td>65</td>\n      <td>20</td>\n      <td>10</td>\n      <td>38</td>\n      <td>188</td>\n      <td>2</td>\n      <td>0</td>\n    </tr>\n    <tr>\n      <th>4</th>\n      <td>Alexis Jones</td>\n      <td>MIN</td>\n      <td>G</td>\n      <td>175</td>\n      <td>78.0</td>\n      <td>25.469388</td>\n      <td>US</td>\n      <td>August 5, 1994</td>\n      <td>23</td>\n      <td>Baylor</td>\n      <td>...</td>\n      <td>3</td>\n      <td>9</td>\n      <td>12</td>\n      <td>12</td>\n      <td>7</td>\n      <td>0</td>\n      <td>14</td>\n      <td>50</td>\n      <td>0</td>\n      <td>0</td>\n    </tr>\n  </tbody>\n</table>\n<p>5 rows \u00d7 32 columns</p>\n</div>"
                    },
                    "metadata": {}
                }
            ]
        },
        {
            "metadata": {},
            "cell_type": "code",
            "source": "",
            "execution_count": null,
            "outputs": []
        }
    ],
    "metadata": {
        "kernelspec": {
            "name": "python3",
            "display_name": "Python 3.9",
            "language": "python"
        },
        "language_info": {
            "name": "python",
            "version": "3.9.7",
            "mimetype": "text/x-python",
            "codemirror_mode": {
                "name": "ipython",
                "version": 3
            },
            "pygments_lexer": "ipython3",
            "nbconvert_exporter": "python",
            "file_extension": ".py"
        }
    },
    "nbformat": 4,
    "nbformat_minor": 1
}